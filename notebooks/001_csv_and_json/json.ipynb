{
 "cells": [
  {
   "cell_type": "code",
   "execution_count": 2,
   "metadata": {},
   "outputs": [
    {
     "name": "stdout",
     "output_type": "stream",
     "text": [
      "[{'createdAt': '1992/9/15',\n",
      "  'email': 'pyKge7@example.com',\n",
      "  'id': '1',\n",
      "  'password': 'ag7RAONG'},\n",
      " {'createdAt': '1971/8/21',\n",
      "  'email': 'iO5Panimi@sample.jp',\n",
      "  'id': '2',\n",
      "  'password': 'Vg8xUj1Q'},\n",
      " {'createdAt': '1984/7/26',\n",
      "  'email': 'C2Meo@sample.org',\n",
      "  'id': '3',\n",
      "  'password': 'MJI9rqER'}]\n"
     ]
    }
   ],
   "source": [
    "import json\n",
    "from pprint import pprint\n",
    "\n",
    "with open(\"test.json\") as f:\n",
    "    data = json.load(f)\n",
    "\n",
    "pprint(data[0:3])\n"
   ]
  }
 ],
 "metadata": {
  "kernelspec": {
   "display_name": "pytest",
   "language": "python",
   "name": "python3"
  },
  "language_info": {
   "codemirror_mode": {
    "name": "ipython",
    "version": 3
   },
   "file_extension": ".py",
   "mimetype": "text/x-python",
   "name": "python",
   "nbconvert_exporter": "python",
   "pygments_lexer": "ipython3",
   "version": "3.11.2"
  },
  "orig_nbformat": 4
 },
 "nbformat": 4,
 "nbformat_minor": 2
}
