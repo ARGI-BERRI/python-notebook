{
 "cells": [
  {
   "cell_type": "code",
   "execution_count": 7,
   "metadata": {},
   "outputs": [
    {
     "name": "stdout",
     "output_type": "stream",
     "text": [
      "[{'created_at': '1994/4/18',\n",
      "  'email': 'aD3Qy@example.org',\n",
      "  'id': '1',\n",
      "  'password': 'mVMlTkV7'},\n",
      " {'created_at': '2010/2/3',\n",
      "  'email': 'I6YaIoNn@sample.co.jp',\n",
      "  'id': '2',\n",
      "  'password': 'cu2Ggnp0'},\n",
      " {'created_at': '2011/4/30',\n",
      "  'email': 'pkQE81@example.co.jp',\n",
      "  'id': '3',\n",
      "  'password': 'ccl2AHef'}]\n"
     ]
    }
   ],
   "source": [
    "import csv\n",
    "from pprint import pprint\n",
    "\n",
    "with open(\"test.csv\", encoding=\"utf-8\") as f:\n",
    "    next(f)\n",
    "    data = [{\"id\": l[0], \"email\": l[1], \"password\": l[2], \"created_at\": l[3]}\n",
    "            for l in csv.reader(f)]\n",
    "\n",
    "pprint(data[0:3])\n"
   ]
  }
 ],
 "metadata": {
  "kernelspec": {
   "display_name": "pytest",
   "language": "python",
   "name": "python3"
  },
  "language_info": {
   "codemirror_mode": {
    "name": "ipython",
    "version": 3
   },
   "file_extension": ".py",
   "mimetype": "text/x-python",
   "name": "python",
   "nbconvert_exporter": "python",
   "pygments_lexer": "ipython3",
   "version": "3.11.2"
  },
  "orig_nbformat": 4
 },
 "nbformat": 4,
 "nbformat_minor": 2
}
